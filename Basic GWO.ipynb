{
 "cells": [
  {
   "cell_type": "code",
   "execution_count": 41,
   "metadata": {},
   "outputs": [],
   "source": [
    "class solution:\n",
    "    def __init__(self):\n",
    "        self.best = 0\n",
    "        self.bestIndividual=[]\n",
    "        self.convergence = []\n",
    "        self.optimizer=\"\"\n",
    "        self.objfname=\"\"\n",
    "        self.startTime=0\n",
    "        self.endTime=0\n",
    "        self.executionTime=0\n",
    "        self.lb=0\n",
    "        self.ub=0\n",
    "        self.dim=0\n",
    "        self.popnum=0\n",
    "        self.maxiers=0\n",
    "        self.no_of_iterations=0"
   ]
  },
  {
   "cell_type": "code",
   "execution_count": 42,
   "metadata": {},
   "outputs": [],
   "source": [
    "import random\n",
    "import numpy\n",
    "import math\n",
    "import time\n",
    "\n",
    "\n",
    "    \n",
    "\n",
    "def GWO(objf,lb,ub,dim,SearchAgents_no,Max_iter):\n",
    "    \n",
    "    \n",
    "    #Max_iter=1000\n",
    "    #lb=-100\n",
    "    #ub=100\n",
    "    #dim=30  \n",
    "    #SearchAgents_no=5\n",
    "    \n",
    "    # initialize alpha, beta, and delta_pos\n",
    "    Alpha_pos=numpy.zeros(dim)\n",
    "    Alpha_score=float(\"inf\")\n",
    "    \n",
    "    Beta_pos=numpy.zeros(dim)\n",
    "    Beta_score=float(\"inf\")\n",
    "    \n",
    "    Delta_pos=numpy.zeros(dim)\n",
    "    Delta_score=float(\"inf\")\n",
    "    \n",
    "    #Initialize the positions of search agents\n",
    "    Positions=numpy.random.uniform(0,1,(SearchAgents_no,dim)) *(ub-lb)+lb\n",
    "    \n",
    "    Convergence_curve=numpy.zeros(Max_iter)\n",
    "    s=solution()\n",
    "\n",
    "     # Loop counter\n",
    "    #print(\"GWO is optimizing  \\\"\"+objf.__name__+\"\\\"\")    \n",
    "    \n",
    "    timerStart=time.time() \n",
    "    s.startTime=time.strftime(\"%Y-%m-%d-%H-%M-%S\")\n",
    "    # Main loop\n",
    "    for l in range(0,Max_iter):\n",
    "        for i in range(0,SearchAgents_no):\n",
    "            \n",
    "            # Return back the search agents that go beyond the boundaries of the search space\n",
    "            Positions[i,:]=numpy.clip(Positions[i,:], lb, ub)\n",
    "\n",
    "            # Calculate objective function for each search agent\n",
    "            fitness=objf(Positions[i,:])\n",
    "            \n",
    "            # Update Alpha, Beta, and Delta\n",
    "            if fitness<Alpha_score :\n",
    "                Alpha_score=fitness; # Update alpha\n",
    "                Alpha_pos=Positions[i,:].copy()\n",
    "            \n",
    "            \n",
    "            if (fitness>Alpha_score and fitness<Beta_score ):\n",
    "                Beta_score=fitness  # Update beta\n",
    "                Beta_pos=Positions[i,:].copy()\n",
    "            \n",
    "            \n",
    "            if (fitness>Alpha_score and fitness>Beta_score and fitness<Delta_score): \n",
    "                Delta_score=fitness # Update delta\n",
    "                Delta_pos=Positions[i,:].copy()\n",
    "            \n",
    "        \n",
    "        \n",
    "        \n",
    "        a=2-l*((2)/Max_iter); # a decreases linearly fron 2 to 0\n",
    "        \n",
    "        # Update the Position of search agents including omegas\n",
    "        for i in range(0,SearchAgents_no):\n",
    "            for j in range (0,dim):     \n",
    "                           \n",
    "                r1=random.random() # r1 is a random number in [0,1]\n",
    "                r2=random.random() # r2 is a random number in [0,1]\n",
    "                \n",
    "                A1=2*a*r1-a; # Equation (3.3)\n",
    "                C1=2*r2; # Equation (3.4)\n",
    "                \n",
    "                D_alpha=abs(C1*Alpha_pos[j]-Positions[i,j]); # Equation (3.5)-part 1\n",
    "                X1=Alpha_pos[j]-A1*D_alpha; # Equation (3.6)-part 1\n",
    "                           \n",
    "                r1=random.random()\n",
    "                r2=random.random()\n",
    "                \n",
    "                A2=2*a*r1-a; # Equation (3.3)\n",
    "                C2=2*r2; # Equation (3.4)\n",
    "                \n",
    "                D_beta=abs(C2*Beta_pos[j]-Positions[i,j]); # Equation (3.5)-part 2\n",
    "                X2=Beta_pos[j]-A2*D_beta; # Equation (3.6)-part 2       \n",
    "                \n",
    "                r1=random.random()\n",
    "                r2=random.random() \n",
    "                \n",
    "                A3=2*a*r1-a; # Equation (3.3)\n",
    "                C3=2*r2; # Equation (3.4)\n",
    "                \n",
    "                D_delta=abs(C3*Delta_pos[j]-Positions[i,j]); # Equation (3.5)-part 3\n",
    "                X3=Delta_pos[j]-A3*D_delta; # Equation (3.5)-part 3             \n",
    "                \n",
    "                Positions[i,j]=(X1+X2+X3)/3  # Equation (3.7)\n",
    "                \n",
    "            \n",
    "        \n",
    "        \n",
    "        Convergence_curve[l]=Alpha_score;\n",
    "\n",
    "        \"\"\"if (l%1==0):\n",
    "               print(['At iteration '+ str(l)+ ' the best fitness is '+ str(Alpha_score)]);\"\"\"\n",
    "    \n",
    "    timerEnd=time.time()  \n",
    "    s.endTime=time.strftime(\"%Y-%m-%d-%H-%M-%S\")\n",
    "    s.executionTime=timerEnd-timerStart\n",
    "    s.convergence=Convergence_curve\n",
    "    s.optimizer=\"GWO\"\n",
    "    s.objfname=objf.__name__\n",
    "    s.no_of_iterations=l\n",
    "    \n",
    "    \n",
    "    \n",
    "    \n",
    "    return s"
   ]
  },
  {
   "cell_type": "code",
   "execution_count": 80,
   "metadata": {},
   "outputs": [],
   "source": [
    "import numpy\n",
    "import math\n",
    "import numpy as np\n",
    "\n",
    "import warnings\n",
    "warnings.simplefilter('ignore')\n",
    "\n",
    "# define the function blocks\n",
    "def prod( it ):\n",
    "    p= 1\n",
    "    for n in it:\n",
    "        p *= n\n",
    "    return p\n",
    "\n",
    "def Ufun(x,a,k,m):\n",
    "    y=k*((x-a)**m)*(x>a)+k*((-x-a)**m)*(x<(-a));\n",
    "    return y\n",
    "    \n",
    "def F1(x):\n",
    "    s=numpy.sum(x**2);\n",
    "    return s\n",
    "\n",
    "def F2(x):\n",
    "    o=numpy.sum(abs(x))+prod(abs(x));\n",
    "    return o;     \n",
    "           \n",
    "def F3(x):\n",
    "    dim=len(x)+1;\n",
    "    o=0;\n",
    "    for i in range(1,dim):\n",
    "        o=o+(numpy.sum(x[0:i]))**2; \n",
    "    return o; \n",
    "    \n",
    "def F4(x):\n",
    "    o=max(abs(x));\n",
    "    return o;     \n",
    "\n",
    "def F5(x):\n",
    "    dim=len(x);\n",
    "    o=numpy.sum(100*(x[1:dim]-(x[0:dim-1]**2))**2+(x[0:dim-1]-1)**2);\n",
    "    return o; \n",
    "\n",
    "def F6(x):\n",
    "    o=numpy.sum(abs((x+.5))**2);\n",
    "    return o;\n",
    "\n",
    "def F7(x):\n",
    "    dim=len(x);\n",
    "\n",
    "    w=[i for i in range(len(x))]\n",
    "    for i in range(0,dim):\n",
    "        w[i]=i+1;\n",
    "    o=numpy.sum(w*(x**4))+numpy.random.uniform(0,1);\n",
    "    return o;\n",
    "\n",
    "def F8(x):\n",
    "    o=sum(-x*(numpy.sin(numpy.sqrt(abs(x)))));\n",
    "    return o;\n",
    "\n",
    "def F9(x):\n",
    "    dim=len(x);\n",
    "    o=numpy.sum(x**2-10*numpy.cos(2*math.pi*x))+10*dim;\n",
    "    return o;\n",
    "\n",
    "\n",
    "def F10(x):\n",
    "    dim=len(x);\n",
    "    o=-20*numpy.exp(-.2*numpy.sqrt(numpy.sum(x**2)/dim))-numpy.exp(numpy.sum(numpy.cos(2*math.pi*x))/dim)+20+numpy.exp(1);\n",
    "    return o;\n",
    "\n",
    "def F11(x):\n",
    "    dim=len(x);\n",
    "    w=[i for i in range(len(x))]\n",
    "    w=[i+1 for i in w];\n",
    "    o=numpy.sum(x**2)/4000-prod(numpy.cos(x/numpy.sqrt(w)))+1;   \n",
    "    return o;\n",
    "    \n",
    "def F12(x):\n",
    "    dim=len(x);\n",
    "    o=(math.pi/dim)*(10*((numpy.sin(math.pi*(1+(x[0]+1)/4)))**2)+numpy.sum((((x[1:dim-1]+1)/4)**2)*(1+10*((numpy.sin(math.pi*(1+(x[1:dim-1]+1)/4))))**2))+((x[dim-1]+1)/4)**2)+numpy.sum(Ufun(x,10,100,4));   \n",
    "    return o;\n",
    "    \n",
    "def F13(x): \n",
    "    dim=len(x);\n",
    "    o=.1*((numpy.sin(3*math.pi*x[1]))**2+sum((x[0:dim-2]-1)**2*(1+(numpy.sin(3*math.pi*x[1:dim-1]))**2))+ \n",
    "    ((x[dim-1]-1)**2)*(1+(numpy.sin(2*math.pi*x[dim-1]))**2))+numpy.sum(Ufun(x,5,100,4));\n",
    "    return o;\n",
    "    \n",
    "def F14(x): \n",
    "    aS=[[-32,-16,0,16,32,-32,-16,0,16,32,-32,-16,0,16,32,-32,-16,0,16,32,-32,-16,0,16,32],[-32,-32,-32,-32,-32,-16,-16,-16,-16,-16,0,0,0,0,0,16,16,16,16,16,32,32,32,32,32]];     \n",
    "    aS=numpy.asarray(aS);\n",
    "    bS = numpy.zeros(25)\n",
    "    v=numpy.matrix(x)\n",
    "    for i in range(0,25):\n",
    "        H=v-aS[:,i];\n",
    "        bS[i]=numpy.sum((numpy.power(H,6)));   \n",
    "    w=[i for i in range(25)]   \n",
    "    for i in range(0,24):\n",
    "        w[i]=i+1;\n",
    "    o=((1./500)+numpy.sum(1./(w+bS)))**(-1);\n",
    "    return o;  \n",
    "     \n",
    "def F15(L):  \n",
    "    aK=[.1957,.1947,.1735,.16,.0844,.0627,.0456,.0342,.0323,.0235,.0246];\n",
    "    bK=[.25,.5,1,2,4,6,8,10,12,14,16];\n",
    "    aK=numpy.asarray(aK);\n",
    "    bK=numpy.asarray(bK);\n",
    "    bK = 1/bK;  \n",
    "    fit=numpy.sum((aK-((L[0]*(bK**2+L[1]*bK))/(bK**2+L[2]*bK+L[3])))**2);\n",
    "    return fit\n",
    "def F16(L):  \n",
    "    o=4*(L[0]**2)-2.1*(L[0]**4)+(L[0]**6)/3+L[0]*L[1]-4*(L[1]**2)+4*(L[1]**4);\n",
    "    return o\n",
    "\n",
    "def F17(L):  \n",
    "    o=(L[1]-(L[0]**2)*5.1/(4*(numpy.pi**2))+5/numpy.pi*L[0]-6)**2+10*(1-1/(8*numpy.pi))*numpy.cos(L[0])+10;\n",
    "    return o\n",
    "    \n",
    "def F18(L):  \n",
    "    o=(1+(L[0]+L[1]+1)**2*(19-14*L[0]+3*(L[0]**2)-14*L[1]+6*L[0]*L[1]+3*L[1]**2))*(30+(2*L[0]-3*L[1])**2*(18-32*L[0]+12*(L[0]**2)+48*L[1]-36*L[0]*L[1]+27*(L[1]**2)));\n",
    "    return o\n",
    "# map the inputs to the function blocks\n",
    "def F19(L):    \n",
    "    aH=[[3,10,30],[.1,10,35],[3,10,30],[.1,10,35]];\n",
    "    aH=numpy.asarray(aH);\n",
    "    cH=[1,1.2,3,3.2];\n",
    "    cH=numpy.asarray(cH);\n",
    "    pH=[[.3689,.117,.2673],[.4699,.4387,.747],[.1091,.8732,.5547],[.03815,.5743,.8828]];\n",
    "    pH=numpy.asarray(pH);\n",
    "    o=0;\n",
    "    for i in range(0,4):\n",
    "        o=o-(numpy.dot(cH[i],(numpy.exp(-(numpy.sum(aH[i,:].dot((L-pH[i,:])**2)))))));   \n",
    "    return o\n",
    "    \n",
    "\n",
    "def F20(L):    \n",
    "    aH=[[10,3,17,3.5,1.7,8],[.05,10,17,.1,8,14],[3,3.5,1.7,10,17,8],[17,8,.05,10,.1,14]];\n",
    "    aH=numpy.asarray(aH);\n",
    "    cH=[1,1.2,3,3.2];\n",
    "    cH=numpy.asarray(cH);\n",
    "    pH=[[.1312,.1696,.5569,.0124,.8283,.5886],[.2329,.4135,.8307,.3736,.1004,.9991],[.2348,.1415,.3522,.2883,.3047,.6650],[.4047,.8828,.8732,.5743,.1091,.0381]];\n",
    "    pH=numpy.asarray(pH);\n",
    "    o=0;\n",
    "    for i in range(0,4):\n",
    "        o=o-cH[i]*numpy.exp(-(numpy.sum(aH[i,:].dot(((L-pH[i,:])**2)))));\n",
    "    return o\n",
    "\n",
    "def F21(L):\n",
    "    aSH=[[4,4,4,4],[1,1,1,1],[8,8,8,8],[6,6,6,6],[3,7,3,7],[2,9,2,9],[5,5,3,3],[8,1,8,1],[6,2,6,2],[7,3.6,7,3.6]];\n",
    "    cSH=[.1,.2,.2,.4,.4,.6,.3,.7,.5,.5];\n",
    "    aSH=numpy.asarray(aSH);\n",
    "    cSH=numpy.asarray(cSH);\n",
    "    fit=0;\n",
    "    for i in range(0,4):\n",
    "        v=numpy.matrix(L-aSH[i,:])\n",
    "        fit=fit-((v)*(v.T)+cSH[i])**(-1);\n",
    "    o=fit.item(0);\n",
    "    return o\n",
    "  \n",
    "def F22(L):\n",
    "    aSH=[[4,4,4,4],[1,1,1,1],[8,8,8,8],[6,6,6,6],[3,7,3,7],[2,9,2,9],[5,5,3,3],[8,1,8,1],[6,2,6,2],[7,3.6,7,3.6]];\n",
    "    cSH=[.1,.2,.2,.4,.4,.6,.3,.7,.5,.5];\n",
    "    aSH=numpy.asarray(aSH);\n",
    "    cSH=numpy.asarray(cSH);\n",
    "    fit=0;\n",
    "    for i in range(0,6):\n",
    "        v=numpy.matrix(L-aSH[i,:])\n",
    "        fit=fit-((v)*(v.T)+cSH[i])**(-1);\n",
    "    o=fit.item(0);\n",
    "    return o  \n",
    "\n",
    "def F23(L):\n",
    "    aSH=[[4,4,4,4],[1,1,1,1],[8,8,8,8],[6,6,6,6],[3,7,3,7],[2,9,2,9],[5,5,3,3],[8,1,8,1],[6,2,6,2],[7,3.6,7,3.6]];\n",
    "    cSH=[.1,.2,.2,.4,.4,.6,.3,.7,.5,.5];\n",
    "    aSH=numpy.asarray(aSH);\n",
    "    cSH=numpy.asarray(cSH);\n",
    "    fit=0;\n",
    "    for i in range(0,9):\n",
    "        v=numpy.matrix(L-aSH[i,:])\n",
    "        fit=fit-((v)*(v.T)+cSH[i])**(-1);\n",
    "    o=fit.item(0);\n",
    "    return o \n",
    "\n",
    "def F66(x):\n",
    "    dim=int(math.floor(len(x)/4))\n",
    "    sum2=0\n",
    "    for i in range(1,dim):\n",
    "        sum2=(((x[4*i-3]+10*x[4*i-2])**2)+(5*(x[4*i-1]-x[4*i])**2)+((x[4*i-2]-x[4*i-1])**4)+(10*(x[4*i-3]-x[4*i])**4))\n",
    "    return sum2\n",
    "\n",
    "def F77(x):\n",
    "    dim=len(x)\n",
    "    dim=dim-2\n",
    "    o=numpy.sum( (x[0:dim-1]+10*x[1:dim])**2 + 5*( (x[2:dim+1]-x[3:dim+2])**2) + (x[1:dim]-2*x[2:dim+1])**4 + 10*((x[0:dim-1]-x[3:dim+2])**4))\n",
    "    return o \n",
    "\n",
    "def F1111(x):\n",
    "    dim=len(x)\n",
    "    o=numpy.sum(abs(x[1:dim]*np.sin( x[1:dim]+0.1*x[1:dim])))\n",
    "    return o\n",
    "\n",
    "def F1313(x):\n",
    "    dim=len(x)\n",
    "   \n",
    "    o=numpy.sum(\n",
    "        0.5+\n",
    "        (\n",
    "            ((numpy.sin(((100*(x[0:dim-1]**2))+(x[1:dim]**2))**0.5))**2)-0.5) \n",
    "        /(1+0.001*(x[:dim-1]**2-2*x[:dim-1]*x[1:dim]+x[1:dim]**2)**2))\n",
    "    return o\n",
    "\n",
    "def F88(x):\n",
    "    dim=len(x)\n",
    "    dim=dim-1\n",
    "    o=numpy.sum( (   (   (x[1:dim-1])**2 )  ** (x[2:dim]**2 + 1) )+  (((x[2:dim])**2 ) ** (x[1:dim-1]*2+ 1)))\n",
    "    return o\n",
    "\n",
    "\n"
   ]
  },
  {
   "cell_type": "code",
   "execution_count": 77,
   "metadata": {},
   "outputs": [],
   "source": [
    "benchmarkFn=[F1,F2,F3,F4,F5,F6,F7,F8,F9,F10,F11,F12,F13,F15,F16,F17,F18,F66,F77,F1313,F88,F1111]"
   ]
  },
  {
   "cell_type": "code",
   "execution_count": 78,
   "metadata": {},
   "outputs": [],
   "source": [
    "def multiple(obj):\n",
    "    egwo=[]\n",
    "    for i in range(30):\n",
    "        mm=GWO(objf=obj,Max_iter=1000,lb=-100,ub=100,dim=30,SearchAgents_no=5)\n",
    "        egwo.append(mm.convergence[len(mm.convergence)-1])\n",
    "    stdev=(statistics.stdev(egwo))\n",
    "    return obj,sum(egwo)/30,stdev"
   ]
  },
  {
   "cell_type": "code",
   "execution_count": 79,
   "metadata": {},
   "outputs": [],
   "source": [
    "import statistics"
   ]
  },
  {
   "cell_type": "code",
   "execution_count": 18,
   "metadata": {},
   "outputs": [
    {
     "name": "stdout",
     "output_type": "stream",
     "text": [
      "optimizing F1\n",
      "optimizing F2\n",
      "optimizing F3\n",
      "optimizing F4\n",
      "optimizing F5\n",
      "optimizing F6\n",
      "optimizing F7\n",
      "optimizing F8\n",
      "optimizing F9\n",
      "optimizing F10\n",
      "optimizing F11\n",
      "optimizing F12\n",
      "optimizing F13\n",
      "optimizing F15\n",
      "optimizing F16\n",
      "optimizing F17\n",
      "optimizing F18\n",
      "optimizing F66\n",
      "optimizing F77\n",
      "optimizing F1313\n",
      "optimizing F88\n"
     ]
    },
    {
     "name": "stderr",
     "output_type": "stream",
     "text": [
      "E:\\Anaconda3\\envs\\tensorflow\\lib\\site-packages\\ipykernel_launcher.py:211: RuntimeWarning: overflow encountered in power\n"
     ]
    },
    {
     "name": "stdout",
     "output_type": "stream",
     "text": [
      "optimizing F1111\n"
     ]
    },
    {
     "ename": "NameError",
     "evalue": "name 'np' is not defined",
     "output_type": "error",
     "traceback": [
      "\u001b[1;31m---------------------------------------------------------------------------\u001b[0m",
      "\u001b[1;31mNameError\u001b[0m                                 Traceback (most recent call last)",
      "\u001b[1;32m<ipython-input-18-2128a4c2cadd>\u001b[0m in \u001b[0;36m<module>\u001b[1;34m()\u001b[0m\n\u001b[0;32m      2\u001b[0m \u001b[1;32mfor\u001b[0m \u001b[0mi\u001b[0m \u001b[1;32min\u001b[0m \u001b[0mbenchmarkFn\u001b[0m\u001b[1;33m:\u001b[0m\u001b[1;33m\u001b[0m\u001b[0m\n\u001b[0;32m      3\u001b[0m     \u001b[0mprint\u001b[0m\u001b[1;33m(\u001b[0m\u001b[1;34m\"optimizing\"\u001b[0m\u001b[1;33m,\u001b[0m\u001b[0mi\u001b[0m\u001b[1;33m.\u001b[0m\u001b[0m__name__\u001b[0m\u001b[1;33m)\u001b[0m\u001b[1;33m\u001b[0m\u001b[0m\n\u001b[1;32m----> 4\u001b[1;33m     \u001b[0mfinal\u001b[0m\u001b[1;33m.\u001b[0m\u001b[0mappend\u001b[0m\u001b[1;33m(\u001b[0m\u001b[0mmultiple\u001b[0m\u001b[1;33m(\u001b[0m\u001b[0mi\u001b[0m\u001b[1;33m)\u001b[0m\u001b[1;33m)\u001b[0m\u001b[1;33m\u001b[0m\u001b[0m\n\u001b[0m\u001b[0;32m      5\u001b[0m \u001b[0mfinal\u001b[0m\u001b[1;33m\u001b[0m\u001b[0m\n",
      "\u001b[1;32m<ipython-input-15-ff6930dbe614>\u001b[0m in \u001b[0;36mmultiple\u001b[1;34m(obj)\u001b[0m\n\u001b[0;32m      2\u001b[0m     \u001b[0megwo\u001b[0m\u001b[1;33m=\u001b[0m\u001b[1;33m[\u001b[0m\u001b[1;33m]\u001b[0m\u001b[1;33m\u001b[0m\u001b[0m\n\u001b[0;32m      3\u001b[0m     \u001b[1;32mfor\u001b[0m \u001b[0mi\u001b[0m \u001b[1;32min\u001b[0m \u001b[0mrange\u001b[0m\u001b[1;33m(\u001b[0m\u001b[1;36m30\u001b[0m\u001b[1;33m)\u001b[0m\u001b[1;33m:\u001b[0m\u001b[1;33m\u001b[0m\u001b[0m\n\u001b[1;32m----> 4\u001b[1;33m         \u001b[0mmm\u001b[0m\u001b[1;33m=\u001b[0m\u001b[0mGWO\u001b[0m\u001b[1;33m(\u001b[0m\u001b[0mobjf\u001b[0m\u001b[1;33m=\u001b[0m\u001b[0mobj\u001b[0m\u001b[1;33m,\u001b[0m\u001b[0mMax_iter\u001b[0m\u001b[1;33m=\u001b[0m\u001b[1;36m1000\u001b[0m\u001b[1;33m,\u001b[0m\u001b[0mlb\u001b[0m\u001b[1;33m=\u001b[0m\u001b[1;33m-\u001b[0m\u001b[1;36m100\u001b[0m\u001b[1;33m,\u001b[0m\u001b[0mub\u001b[0m\u001b[1;33m=\u001b[0m\u001b[1;36m100\u001b[0m\u001b[1;33m,\u001b[0m\u001b[0mdim\u001b[0m\u001b[1;33m=\u001b[0m\u001b[1;36m30\u001b[0m\u001b[1;33m,\u001b[0m\u001b[0mSearchAgents_no\u001b[0m\u001b[1;33m=\u001b[0m\u001b[1;36m5\u001b[0m\u001b[1;33m)\u001b[0m\u001b[1;33m\u001b[0m\u001b[0m\n\u001b[0m\u001b[0;32m      5\u001b[0m         \u001b[0megwo\u001b[0m\u001b[1;33m.\u001b[0m\u001b[0mappend\u001b[0m\u001b[1;33m(\u001b[0m\u001b[0mmm\u001b[0m\u001b[1;33m.\u001b[0m\u001b[0mconvergence\u001b[0m\u001b[1;33m[\u001b[0m\u001b[0mlen\u001b[0m\u001b[1;33m(\u001b[0m\u001b[0mmm\u001b[0m\u001b[1;33m.\u001b[0m\u001b[0mconvergence\u001b[0m\u001b[1;33m)\u001b[0m\u001b[1;33m-\u001b[0m\u001b[1;36m1\u001b[0m\u001b[1;33m]\u001b[0m\u001b[1;33m)\u001b[0m\u001b[1;33m\u001b[0m\u001b[0m\n\u001b[0;32m      6\u001b[0m     \u001b[0mstdev\u001b[0m\u001b[1;33m=\u001b[0m\u001b[1;33m(\u001b[0m\u001b[0mstatistics\u001b[0m\u001b[1;33m.\u001b[0m\u001b[0mstdev\u001b[0m\u001b[1;33m(\u001b[0m\u001b[0megwo\u001b[0m\u001b[1;33m)\u001b[0m\u001b[1;33m)\u001b[0m\u001b[1;33m\u001b[0m\u001b[0m\n",
      "\u001b[1;32m<ipython-input-11-542fb296d957>\u001b[0m in \u001b[0;36mGWO\u001b[1;34m(objf, lb, ub, dim, SearchAgents_no, Max_iter)\u001b[0m\n\u001b[0;32m     45\u001b[0m \u001b[1;33m\u001b[0m\u001b[0m\n\u001b[0;32m     46\u001b[0m             \u001b[1;31m# Calculate objective function for each search agent\u001b[0m\u001b[1;33m\u001b[0m\u001b[1;33m\u001b[0m\u001b[0m\n\u001b[1;32m---> 47\u001b[1;33m             \u001b[0mfitness\u001b[0m\u001b[1;33m=\u001b[0m\u001b[0mobjf\u001b[0m\u001b[1;33m(\u001b[0m\u001b[0mPositions\u001b[0m\u001b[1;33m[\u001b[0m\u001b[0mi\u001b[0m\u001b[1;33m,\u001b[0m\u001b[1;33m:\u001b[0m\u001b[1;33m]\u001b[0m\u001b[1;33m)\u001b[0m\u001b[1;33m\u001b[0m\u001b[0m\n\u001b[0m\u001b[0;32m     48\u001b[0m \u001b[1;33m\u001b[0m\u001b[0m\n\u001b[0;32m     49\u001b[0m             \u001b[1;31m# Update Alpha, Beta, and Delta\u001b[0m\u001b[1;33m\u001b[0m\u001b[1;33m\u001b[0m\u001b[0m\n",
      "\u001b[1;32m<ipython-input-13-612bf5542128>\u001b[0m in \u001b[0;36mF1111\u001b[1;34m(x)\u001b[0m\n\u001b[0;32m    193\u001b[0m \u001b[1;32mdef\u001b[0m \u001b[0mF1111\u001b[0m\u001b[1;33m(\u001b[0m\u001b[0mx\u001b[0m\u001b[1;33m)\u001b[0m\u001b[1;33m:\u001b[0m\u001b[1;33m\u001b[0m\u001b[0m\n\u001b[0;32m    194\u001b[0m     \u001b[0mdim\u001b[0m\u001b[1;33m=\u001b[0m\u001b[0mlen\u001b[0m\u001b[1;33m(\u001b[0m\u001b[0mx\u001b[0m\u001b[1;33m)\u001b[0m\u001b[1;33m\u001b[0m\u001b[0m\n\u001b[1;32m--> 195\u001b[1;33m     \u001b[0mo\u001b[0m\u001b[1;33m=\u001b[0m\u001b[0mnumpy\u001b[0m\u001b[1;33m.\u001b[0m\u001b[0msum\u001b[0m\u001b[1;33m(\u001b[0m\u001b[0mabs\u001b[0m\u001b[1;33m(\u001b[0m\u001b[0mx\u001b[0m\u001b[1;33m[\u001b[0m\u001b[1;36m1\u001b[0m\u001b[1;33m:\u001b[0m\u001b[0mdim\u001b[0m\u001b[1;33m]\u001b[0m\u001b[1;33m*\u001b[0m\u001b[0mnp\u001b[0m\u001b[1;33m.\u001b[0m\u001b[0msin\u001b[0m\u001b[1;33m(\u001b[0m \u001b[0mx\u001b[0m\u001b[1;33m[\u001b[0m\u001b[1;36m1\u001b[0m\u001b[1;33m:\u001b[0m\u001b[0mdim\u001b[0m\u001b[1;33m]\u001b[0m\u001b[1;33m+\u001b[0m\u001b[1;36m0.1\u001b[0m\u001b[1;33m*\u001b[0m\u001b[0mx\u001b[0m\u001b[1;33m[\u001b[0m\u001b[1;36m1\u001b[0m\u001b[1;33m:\u001b[0m\u001b[0mdim\u001b[0m\u001b[1;33m]\u001b[0m\u001b[1;33m)\u001b[0m\u001b[1;33m)\u001b[0m\u001b[1;33m)\u001b[0m\u001b[1;33m\u001b[0m\u001b[0m\n\u001b[0m\u001b[0;32m    196\u001b[0m     \u001b[1;32mreturn\u001b[0m \u001b[0mo\u001b[0m\u001b[1;33m\u001b[0m\u001b[0m\n\u001b[0;32m    197\u001b[0m \u001b[1;33m\u001b[0m\u001b[0m\n",
      "\u001b[1;31mNameError\u001b[0m: name 'np' is not defined"
     ]
    }
   ],
   "source": [
    "final=[]\n",
    "for i in benchmarkFn:\n",
    "    print(\"optimizing\",i.__name__)\n",
    "    final.append(multiple(i))\n",
    "final"
   ]
  },
  {
   "cell_type": "code",
   "execution_count": 66,
   "metadata": {},
   "outputs": [
    {
     "data": {
      "text/plain": [
       "(999, 2.675011152771112e-23)"
      ]
     },
     "execution_count": 66,
     "metadata": {},
     "output_type": "execute_result"
    }
   ],
   "source": [
    "eegwo=GWO(objf=F11,Max_iter=1000,lb=-100,ub=100,dim=30,SearchAgents_no=5)\n",
    "egwo=GWO(objf=F1,Max_iter=1000,lb=-100,ub=100,dim=30,SearchAgents_no=5)\n",
    "egwo.no_of_iterations,egwo.convergence[len(egwo.convergence)-1]"
   ]
  },
  {
   "cell_type": "code",
   "execution_count": 48,
   "metadata": {},
   "outputs": [
    {
     "data": {
      "text/plain": [
       "744.6884840027665"
      ]
     },
     "execution_count": 48,
     "metadata": {},
     "output_type": "execute_result"
    }
   ],
   "source": [
    "eegwo.convergence[0]"
   ]
  },
  {
   "cell_type": "code",
   "execution_count": 28,
   "metadata": {},
   "outputs": [],
   "source": [
    "import matplotlib.pyplot as plt"
   ]
  },
  {
   "cell_type": "code",
   "execution_count": 81,
   "metadata": {},
   "outputs": [],
   "source": [
    "x1=[]\n",
    "for i in range(1000):\n",
    "    x1.append(i)"
   ]
  },
  {
   "cell_type": "code",
   "execution_count": 74,
   "metadata": {},
   "outputs": [
    {
     "data": {
      "image/png": "[encoded data removed]",
      "text/plain": [
       "<Figure size 432x288 with 1 Axes>"
      ]
     },
     "metadata": {
      "needs_background": "light"
     },
     "output_type": "display_data"
    }
   ],
   "source": [
    "plt.plot(x1,egwo.convergence,color=\"blue\")\n",
    "plt.xlabel(\"No. of iterations\")\n",
    "plt.ylabel(\"Fitness\")\n",
    "plt.savefig(\"basic_f1.png\")\n",
    "plt.show()"
   ]
  },
  {
   "cell_type": "code",
   "execution_count": 75,
   "metadata": {
    "scrolled": true
   },
   "outputs": [
    {
     "data": {
      "image/png": "[encoded data removed]",
      "text/plain": [
       "<Figure size 432x288 with 1 Axes>"
      ]
     },
     "metadata": {
      "needs_background": "light"
     },
     "output_type": "display_data"
    }
   ],
   "source": [
    "plt.plot(x1,eegwo.convergence,color=\"blue\")\n",
    "plt.xlabel(\"No. of iterations\")\n",
    "plt.ylabel(\"Fitness\")\n",
    "plt.savefig(\"basic_f11.png\")\n",
    "plt.show()"
   ]
  },
  {
   "cell_type": "code",
   "execution_count": 44,
   "metadata": {},
   "outputs": [
    {
     "data": {
      "text/plain": [
       "<Figure size 432x288 with 0 Axes>"
      ]
     },
     "metadata": {},
     "output_type": "display_data"
    }
   ],
   "source": [
    "plt.savefig(\"basic_f1.png\")"
   ]
  }
 ],
 "metadata": {
  "kernelspec": {
   "display_name": "Python 3",
   "language": "python",
   "name": "python3"
  },
  "language_info": {
   "codemirror_mode": {
    "name": "ipython",
    "version": 3
   },
   "file_extension": ".py",
   "mimetype": "text/x-python",
   "name": "python",
   "nbconvert_exporter": "python",
   "pygments_lexer": "ipython3",
   "version": "3.6.6"
  }
 },
 "nbformat": 4,
 "nbformat_minor": 2
}
